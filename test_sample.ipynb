{
 "cells": [
  {
   "cell_type": "code",
   "execution_count": 2,
   "metadata": {},
   "outputs": [
    {
     "data": {
      "text/plain": [
       "['images', 'meta_variables']"
      ]
     },
     "execution_count": 2,
     "metadata": {},
     "output_type": "execute_result"
    }
   ],
   "source": [
    "filename = 'cp_qq_untrim_standard.h5'\n",
    "\n",
    "import h5py\n",
    "\n",
    "f = h5py.File(filename, 'r')\n",
    "list(f.keys())"
   ]
  },
  {
   "cell_type": "code",
   "execution_count": 4,
   "metadata": {},
   "outputs": [
    {
     "data": {
      "text/plain": [
       "<HDF5 dataset \"images\": shape (64557, 65, 65), type \"<f4\">"
      ]
     },
     "execution_count": 4,
     "metadata": {},
     "output_type": "execute_result"
    }
   ],
   "source": [
    "f['images']"
   ]
  },
  {
   "cell_type": "code",
   "execution_count": 4,
   "metadata": {},
   "outputs": [
    {
     "data": {
      "text/plain": [
       "['ec_1',\n",
       " 'ec_2',\n",
       " 'ec_3',\n",
       " 'jet_delta_R',\n",
       " 'jet_eta',\n",
       " 'jet_mass',\n",
       " 'jet_phi',\n",
       " 'jet_pt',\n",
       " 'pull1',\n",
       " 'pull2',\n",
       " 'signal',\n",
       " 'tau_1',\n",
       " 'tau_2',\n",
       " 'tau_21',\n",
       " 'tau_3',\n",
       " 'tau_32']"
      ]
     },
     "execution_count": 4,
     "metadata": {},
     "output_type": "execute_result"
    }
   ],
   "source": [
    "list(f['meta_variables'].keys())"
   ]
  },
  {
   "cell_type": "code",
   "execution_count": 9,
   "metadata": {},
   "outputs": [
    {
     "data": {
      "text/plain": [
       "<HDF5 dataset \"ec_1\": shape (64557,), type \"<f8\">"
      ]
     },
     "execution_count": 9,
     "metadata": {},
     "output_type": "execute_result"
    }
   ],
   "source": [
    "f['meta_variables']['ec_1']"
   ]
  },
  {
   "cell_type": "code",
   "execution_count": 12,
   "metadata": {},
   "outputs": [],
   "source": [
    "import time\n",
    "\n",
    "import h5py\n",
    "import numpy as np\n",
    "import sklearn.utils\n",
    "import os\n",
    "#from imblearn.under_sampling import RandomUnderSampler\n",
    "\n",
    "max_chunks = 10000"
   ]
  },
  {
   "cell_type": "code",
   "execution_count": 13,
   "metadata": {},
   "outputs": [],
   "source": [
    "# Zero pads images from 25x25 to 33x33x1.\n",
    "def zero_pad(array):\n",
    "    assert array.shape == (len(array), 25, 25)\n",
    "    array = np.pad(array, pad_width=([0, 0], [4, 4], [4, 4]),\n",
    "                   mode='constant', constant_values=0)\n",
    "    array = array[..., np.newaxis]\n",
    "    return array"
   ]
  },
  {
   "cell_type": "code",
   "execution_count": 19,
   "metadata": {},
   "outputs": [],
   "source": [
    "# Implements also large data set method, which splits raw samples into max_size ones, and saves them continuously.\n",
    "def raw_data_to_ready_data(max_size, gen):\n",
    "    ts = time.time()\n",
    "\n",
    "    #fname0, fname1 = get_raw_names()[gen]\n",
    "    fname0 = \"cp_qq_untrim_standard.h5\"\n",
    "    fname1 = \"zp_qq_untrim_standard.h5\"\n",
    "    \n",
    "    #dir_name = drive_path + \"ready data/\" + gen.replace(' ', '/')\n",
    "    dir_name = \"ready_data\"\n",
    "    if not os.path.exists(dir_name + '/'):\n",
    "        os.makedirs(dir_name + '/')\n",
    "\n",
    "    size_0 = len(h5py.File(fname0, 'r')['images'])\n",
    "    size_1 = len(h5py.File(fname1, 'r')['images'])\n",
    "    splits = int(np.ceil(max(size_0, size_1) / max_size))  # Celling function\n",
    "\n",
    "    increment_0 = int(size_0 / splits)\n",
    "    increment_1 = int(size_1 / splits)\n",
    "\n",
    "    print(gen)\n",
    "    print()\n",
    "    print(\"Splitting data into %d parts.\" % splits)\n",
    "    print(\"Resulting data sets will be approximately of size %d images.\" % (min(increment_1, increment_0) * splits))\n",
    "    print(\"Training, Validation, Tests combined.\")\n",
    "    print(\"Increment of 0's taken is %d\" % increment_0)\n",
    "    print(\"Increment of 1's taken is %d\" % increment_1)\n",
    "    print(\"--------------------------------------\")\n",
    "    print(\"Split 1 started\")\n",
    "\n",
    "    ti = time.time()\n",
    "    first_helper(h5py.File(fname0)['images'][:increment_0],\n",
    "                 h5py.File(fname1)['images'][:increment_1],\n",
    "                 dir_name)\n",
    "    print(\"Split 1 ended. It took %0.2f seconds.\" % (time.time() - ti))\n",
    "    for i in range(1, splits):\n",
    "        print(\"Split\", i + 1, \"started\")\n",
    "        ti = time.time()\n",
    "        helper(h5py.File(fname0)['images'][i * increment_0:(i + 1) * increment_0],\n",
    "               h5py.File(fname1)['images'][i * increment_1:(i + 1) * increment_1],\n",
    "               dir_name)\n",
    "        print(\"Split %d ended. It took %0.2f seconds.\" % i + 1, (time.time() - ti))\n",
    "\n",
    "    # Print how long it took\n",
    "    hs = int((time.time() - ts) / 3600)\n",
    "    ms = int((time.time() - ts) % 3600 / 60)\n",
    "    s = (time.time() - ts) % 3600 % 60\n",
    "    print(\"Time method took was %d hours, %d minutes, %0.2f seconds for %s\" % hs, ms, s, dir_name)\n",
    "    print(\"\")\n",
    "    test_dimensions(dir_name + \"/data.h5\")\n",
    "    \n",
    "def test_dimensions(fname):\n",
    "    with h5py.File(fname, 'r') as f:\n",
    "        for k in f.keys():\n",
    "            for v in f[k].keys():\n",
    "                print(\"%s %s shape is, %s\" % k, v, f[k][v].shape)\n",
    "    \n",
    "def first_helper(x0, x1, dir_name):\n",
    "    x0, x1, x0tr, x1tr, x0val, x1val = pre_process(x0, x1)\n",
    "    with h5py.File(dir_name + '/data.h5', 'w') as h:\n",
    "        t = h.create_group('test')\n",
    "        x_test = zero_pad(np.concatenate((x0[x0val:], x1[x1val:])))\n",
    "        t.create_dataset('x', data=x_test, shape=x_test.shape, maxshape=([None] + list(x_test.shape[1:])))\n",
    "        y_test = np.concatenate((np.zeros(len(x0[x0val:])), np.ones(len(x1[x1val:]))))\n",
    "        t.create_dataset('y', data=y_test, shape=y_test.shape, maxshape=[None])\n",
    "\n",
    "        t = h.create_group('val')\n",
    "        x_val = zero_pad(np.concatenate((x0[x0tr:x0val], x1[x1tr:x1val])))\n",
    "        t.create_dataset('x', data=x_val, shape=x_val.shape, maxshape=([None] + list(x_test.shape[1:])))\n",
    "        y_val = np.concatenate((np.zeros(x0val - x0tr), np.ones(x1val - x1tr)))\n",
    "        t.create_dataset('y', data=y_val, shape=y_val.shape, maxshape=[None])\n",
    "\n",
    "    x0 = x0[:x0tr]\n",
    "    x1 = x1[:x1tr]\n",
    "    x0 = np.reshape(x0, [len(x0), 625])\n",
    "    x1 = np.reshape(x1, [len(x1), 625])\n",
    "\n",
    "    r = RandomUnderSampler()\n",
    "    x, y = r.fit_sample(np.concatenate((x0, x1)), np.concatenate((np.zeros(len(x0)), np.ones(len(x1)))))\n",
    "    x, y = sklearn.utils.shuffle(x, y)\n",
    "\n",
    "    x = zero_pad(np.reshape(x, [len(x), 25, 25]))\n",
    "\n",
    "    with h5py.File(dir_name + '/data.h5', 'a') as h:\n",
    "        t = h.create_group('train')\n",
    "        t.create_dataset('x', data=x, shape=x.shape, maxshape=([None] + list(x_test.shape[1:])))\n",
    "        t.create_dataset('y', data=y, shape=[len(y)], maxshape=[None])\n",
    "        \n",
    "def helper(x0, x1, dir_name):\n",
    "    x0, x1, x0tr, x1tr, x0val, x1val = pre_process(x0, x1)\n",
    "\n",
    "    with h5py.File(dir_name + '/data.h5', 'a') as h:\n",
    "        x_test = zero_pad(np.concatenate((x0[x0val:], x1[x1val:])))\n",
    "        h[\"test/x\"].resize((h[\"test/x\"].shape[0] + len(x_test)), axis=0)\n",
    "        h[\"test/x\"][-len(x_test):] = x_test\n",
    "\n",
    "        y_test = np.concatenate((np.zeros(len(x0[x0val:])), np.ones(len(x1[x1val:]))))\n",
    "        h['test/y'].resize((h[\"test/y\"].shape[0] + len(y_test)), axis=0)\n",
    "        h[\"test/y\"][-len(y_test):] = y_test\n",
    "\n",
    "        x_val = zero_pad(np.concatenate((x0[x0tr:x0val], x1[x1tr:x1val])))\n",
    "        h[\"val/x\"].resize((h[\"val/x\"].shape[0] + len(x_val)), axis=0)\n",
    "        h[\"val/x\"][-len(x_val):] = x_val\n",
    "\n",
    "        y_val = np.concatenate((np.zeros(x0val - x0tr), np.ones(x1val - x1tr)))\n",
    "        h['val/y'].resize((h[\"val/y\"].shape[0] + len(y_val)), axis=0)\n",
    "        h[\"val/y\"][-len(y_val):] = y_val\n",
    "\n",
    "    x0 = x0[:x0tr]\n",
    "    x1 = x1[:x1tr]\n",
    "    x0 = np.reshape(x0, [len(x0), 625])\n",
    "    x1 = np.reshape(x1, [len(x1), 625])\n",
    "\n",
    "    r = RandomUnderSampler()\n",
    "    x, y = r.fit_sample(np.concatenate((x0, x1)), np.concatenate((np.zeros(len(x0)), np.ones(len(x1)))))\n",
    "    x, y = sklearn.utils.shuffle(x, y)\n",
    "\n",
    "    x = zero_pad(np.reshape(x, [len(x), 25, 25]))\n",
    "    with h5py.File(dir_name + '/data.h5', 'a') as h:\n",
    "        h[\"train/x\"].resize((h[\"train/x\"].shape[0] + len(x)), axis=0)\n",
    "        h[\"train/x\"][-len(x):] = x\n",
    "\n",
    "        h['train/y'].resize((h[\"train/y\"].shape[0] + len(y)), axis=0)\n",
    "        h[\"train/y\"][-len(y):] = y\n",
    "        \n",
    "def pre_process(x0, x1):\n",
    "    x0 = np.reshape(x0, [len(x0), 625])\n",
    "    x1 = np.reshape(x1, [len(x1), 625])\n",
    "\n",
    "    x0 = sklearn.utils.shuffle(x0)\n",
    "    x1 = sklearn.utils.shuffle(x1)\n",
    "\n",
    "    x0 = np.reshape(x0, [len(x0), 25, 25])\n",
    "    x1 = np.reshape(x1, [len(x1), 25, 25])\n",
    "\n",
    "    x0tr = int(len(x0) * 0.6)\n",
    "    x1tr = int(len(x1) * 0.6)\n",
    "    x0val = int(len(x0) * 0.8)\n",
    "    x1val = int(len(x1) * 0.8)\n",
    "    return x0, x1, x0tr, x1tr, x0val, x1val"
   ]
  },
  {
   "cell_type": "code",
   "execution_count": 20,
   "metadata": {},
   "outputs": [
    {
     "name": "stdout",
     "output_type": "stream",
     "text": [
      "Herwig Dipole\n",
      "\n",
      "Splitting data into 17 parts.\n",
      "Resulting data sets will be approximately of size 64549 images.\n",
      "Training, Validation, Tests combined.\n",
      "Increment of 0's taken is 3797\n",
      "Increment of 1's taken is 9701\n",
      "--------------------------------------\n",
      "Split 1 started\n"
     ]
    },
    {
     "ename": "ValueError",
     "evalue": "cannot reshape array of size 16042325 into shape (3797,625)",
     "output_type": "error",
     "traceback": [
      "\u001b[1;31m------------------------------------------------------------\u001b[0m",
      "\u001b[1;31mValueError\u001b[0m                 Traceback (most recent call last)",
      "\u001b[1;32m<ipython-input-20-caa27fde68a7>\u001b[0m in \u001b[0;36m<module>\u001b[1;34m\u001b[0m\n\u001b[1;32m----> 1\u001b[1;33m \u001b[0mraw_data_to_ready_data\u001b[0m\u001b[1;33m(\u001b[0m\u001b[0mmax_chunks\u001b[0m\u001b[1;33m,\u001b[0m \u001b[1;34m'Herwig Dipole'\u001b[0m\u001b[1;33m)\u001b[0m\u001b[1;33m\u001b[0m\u001b[1;33m\u001b[0m\u001b[0m\n\u001b[0m",
      "\u001b[1;32m<ipython-input-19-4ce0acc34185>\u001b[0m in \u001b[0;36mraw_data_to_ready_data\u001b[1;34m(max_size, gen)\u001b[0m\n\u001b[0;32m     32\u001b[0m     first_helper(h5py.File(fname0)['images'][:increment_0],\n\u001b[0;32m     33\u001b[0m                  \u001b[0mh5py\u001b[0m\u001b[1;33m.\u001b[0m\u001b[0mFile\u001b[0m\u001b[1;33m(\u001b[0m\u001b[0mfname1\u001b[0m\u001b[1;33m)\u001b[0m\u001b[1;33m[\u001b[0m\u001b[1;34m'images'\u001b[0m\u001b[1;33m]\u001b[0m\u001b[1;33m[\u001b[0m\u001b[1;33m:\u001b[0m\u001b[0mincrement_1\u001b[0m\u001b[1;33m]\u001b[0m\u001b[1;33m,\u001b[0m\u001b[1;33m\u001b[0m\u001b[1;33m\u001b[0m\u001b[0m\n\u001b[1;32m---> 34\u001b[1;33m                  dir_name)\n\u001b[0m\u001b[0;32m     35\u001b[0m     \u001b[0mprint\u001b[0m\u001b[1;33m(\u001b[0m\u001b[1;34m\"Split 1 ended. It took %0.2f seconds.\"\u001b[0m \u001b[1;33m%\u001b[0m \u001b[1;33m(\u001b[0m\u001b[0mtime\u001b[0m\u001b[1;33m.\u001b[0m\u001b[0mtime\u001b[0m\u001b[1;33m(\u001b[0m\u001b[1;33m)\u001b[0m \u001b[1;33m-\u001b[0m \u001b[0mti\u001b[0m\u001b[1;33m)\u001b[0m\u001b[1;33m)\u001b[0m\u001b[1;33m\u001b[0m\u001b[1;33m\u001b[0m\u001b[0m\n\u001b[0;32m     36\u001b[0m     \u001b[1;32mfor\u001b[0m \u001b[0mi\u001b[0m \u001b[1;32min\u001b[0m \u001b[0mrange\u001b[0m\u001b[1;33m(\u001b[0m\u001b[1;36m1\u001b[0m\u001b[1;33m,\u001b[0m \u001b[0msplits\u001b[0m\u001b[1;33m)\u001b[0m\u001b[1;33m:\u001b[0m\u001b[1;33m\u001b[0m\u001b[1;33m\u001b[0m\u001b[0m\n",
      "\u001b[1;32m<ipython-input-19-4ce0acc34185>\u001b[0m in \u001b[0;36mfirst_helper\u001b[1;34m(x0, x1, dir_name)\u001b[0m\n\u001b[0;32m     57\u001b[0m \u001b[1;33m\u001b[0m\u001b[0m\n\u001b[0;32m     58\u001b[0m \u001b[1;32mdef\u001b[0m \u001b[0mfirst_helper\u001b[0m\u001b[1;33m(\u001b[0m\u001b[0mx0\u001b[0m\u001b[1;33m,\u001b[0m \u001b[0mx1\u001b[0m\u001b[1;33m,\u001b[0m \u001b[0mdir_name\u001b[0m\u001b[1;33m)\u001b[0m\u001b[1;33m:\u001b[0m\u001b[1;33m\u001b[0m\u001b[1;33m\u001b[0m\u001b[0m\n\u001b[1;32m---> 59\u001b[1;33m     \u001b[0mx0\u001b[0m\u001b[1;33m,\u001b[0m \u001b[0mx1\u001b[0m\u001b[1;33m,\u001b[0m \u001b[0mx0tr\u001b[0m\u001b[1;33m,\u001b[0m \u001b[0mx1tr\u001b[0m\u001b[1;33m,\u001b[0m \u001b[0mx0val\u001b[0m\u001b[1;33m,\u001b[0m \u001b[0mx1val\u001b[0m \u001b[1;33m=\u001b[0m \u001b[0mpre_process\u001b[0m\u001b[1;33m(\u001b[0m\u001b[0mx0\u001b[0m\u001b[1;33m,\u001b[0m \u001b[0mx1\u001b[0m\u001b[1;33m)\u001b[0m\u001b[1;33m\u001b[0m\u001b[1;33m\u001b[0m\u001b[0m\n\u001b[0m\u001b[0;32m     60\u001b[0m     \u001b[1;32mwith\u001b[0m \u001b[0mh5py\u001b[0m\u001b[1;33m.\u001b[0m\u001b[0mFile\u001b[0m\u001b[1;33m(\u001b[0m\u001b[0mdir_name\u001b[0m \u001b[1;33m+\u001b[0m \u001b[1;34m'/data.h5'\u001b[0m\u001b[1;33m,\u001b[0m \u001b[1;34m'w'\u001b[0m\u001b[1;33m)\u001b[0m \u001b[1;32mas\u001b[0m \u001b[0mh\u001b[0m\u001b[1;33m:\u001b[0m\u001b[1;33m\u001b[0m\u001b[1;33m\u001b[0m\u001b[0m\n\u001b[0;32m     61\u001b[0m         \u001b[0mt\u001b[0m \u001b[1;33m=\u001b[0m \u001b[0mh\u001b[0m\u001b[1;33m.\u001b[0m\u001b[0mcreate_group\u001b[0m\u001b[1;33m(\u001b[0m\u001b[1;34m'test'\u001b[0m\u001b[1;33m)\u001b[0m\u001b[1;33m\u001b[0m\u001b[1;33m\u001b[0m\u001b[0m\n",
      "\u001b[1;32m<ipython-input-19-4ce0acc34185>\u001b[0m in \u001b[0;36mpre_process\u001b[1;34m(x0, x1)\u001b[0m\n\u001b[0;32m    125\u001b[0m \u001b[1;33m\u001b[0m\u001b[0m\n\u001b[0;32m    126\u001b[0m \u001b[1;32mdef\u001b[0m \u001b[0mpre_process\u001b[0m\u001b[1;33m(\u001b[0m\u001b[0mx0\u001b[0m\u001b[1;33m,\u001b[0m \u001b[0mx1\u001b[0m\u001b[1;33m)\u001b[0m\u001b[1;33m:\u001b[0m\u001b[1;33m\u001b[0m\u001b[1;33m\u001b[0m\u001b[0m\n\u001b[1;32m--> 127\u001b[1;33m     \u001b[0mx0\u001b[0m \u001b[1;33m=\u001b[0m \u001b[0mnp\u001b[0m\u001b[1;33m.\u001b[0m\u001b[0mreshape\u001b[0m\u001b[1;33m(\u001b[0m\u001b[0mx0\u001b[0m\u001b[1;33m,\u001b[0m \u001b[1;33m[\u001b[0m\u001b[0mlen\u001b[0m\u001b[1;33m(\u001b[0m\u001b[0mx0\u001b[0m\u001b[1;33m)\u001b[0m\u001b[1;33m,\u001b[0m \u001b[1;36m625\u001b[0m\u001b[1;33m]\u001b[0m\u001b[1;33m)\u001b[0m\u001b[1;33m\u001b[0m\u001b[1;33m\u001b[0m\u001b[0m\n\u001b[0m\u001b[0;32m    128\u001b[0m     \u001b[0mx1\u001b[0m \u001b[1;33m=\u001b[0m \u001b[0mnp\u001b[0m\u001b[1;33m.\u001b[0m\u001b[0mreshape\u001b[0m\u001b[1;33m(\u001b[0m\u001b[0mx1\u001b[0m\u001b[1;33m,\u001b[0m \u001b[1;33m[\u001b[0m\u001b[0mlen\u001b[0m\u001b[1;33m(\u001b[0m\u001b[0mx1\u001b[0m\u001b[1;33m)\u001b[0m\u001b[1;33m,\u001b[0m \u001b[1;36m625\u001b[0m\u001b[1;33m]\u001b[0m\u001b[1;33m)\u001b[0m\u001b[1;33m\u001b[0m\u001b[1;33m\u001b[0m\u001b[0m\n\u001b[0;32m    129\u001b[0m \u001b[1;33m\u001b[0m\u001b[0m\n",
      "\u001b[1;32m~\\Anaconda3\\lib\\site-packages\\numpy\\core\\fromnumeric.py\u001b[0m in \u001b[0;36mreshape\u001b[1;34m(a, newshape, order)\u001b[0m\n\u001b[0;32m    290\u001b[0m            [5, 6]])\n\u001b[0;32m    291\u001b[0m     \"\"\"\n\u001b[1;32m--> 292\u001b[1;33m     \u001b[1;32mreturn\u001b[0m \u001b[0m_wrapfunc\u001b[0m\u001b[1;33m(\u001b[0m\u001b[0ma\u001b[0m\u001b[1;33m,\u001b[0m \u001b[1;34m'reshape'\u001b[0m\u001b[1;33m,\u001b[0m \u001b[0mnewshape\u001b[0m\u001b[1;33m,\u001b[0m \u001b[0morder\u001b[0m\u001b[1;33m=\u001b[0m\u001b[0morder\u001b[0m\u001b[1;33m)\u001b[0m\u001b[1;33m\u001b[0m\u001b[1;33m\u001b[0m\u001b[0m\n\u001b[0m\u001b[0;32m    293\u001b[0m \u001b[1;33m\u001b[0m\u001b[0m\n\u001b[0;32m    294\u001b[0m \u001b[1;33m\u001b[0m\u001b[0m\n",
      "\u001b[1;32m~\\Anaconda3\\lib\\site-packages\\numpy\\core\\fromnumeric.py\u001b[0m in \u001b[0;36m_wrapfunc\u001b[1;34m(obj, method, *args, **kwds)\u001b[0m\n\u001b[0;32m     54\u001b[0m \u001b[1;32mdef\u001b[0m \u001b[0m_wrapfunc\u001b[0m\u001b[1;33m(\u001b[0m\u001b[0mobj\u001b[0m\u001b[1;33m,\u001b[0m \u001b[0mmethod\u001b[0m\u001b[1;33m,\u001b[0m \u001b[1;33m*\u001b[0m\u001b[0margs\u001b[0m\u001b[1;33m,\u001b[0m \u001b[1;33m**\u001b[0m\u001b[0mkwds\u001b[0m\u001b[1;33m)\u001b[0m\u001b[1;33m:\u001b[0m\u001b[1;33m\u001b[0m\u001b[1;33m\u001b[0m\u001b[0m\n\u001b[0;32m     55\u001b[0m     \u001b[1;32mtry\u001b[0m\u001b[1;33m:\u001b[0m\u001b[1;33m\u001b[0m\u001b[1;33m\u001b[0m\u001b[0m\n\u001b[1;32m---> 56\u001b[1;33m         \u001b[1;32mreturn\u001b[0m \u001b[0mgetattr\u001b[0m\u001b[1;33m(\u001b[0m\u001b[0mobj\u001b[0m\u001b[1;33m,\u001b[0m \u001b[0mmethod\u001b[0m\u001b[1;33m)\u001b[0m\u001b[1;33m(\u001b[0m\u001b[1;33m*\u001b[0m\u001b[0margs\u001b[0m\u001b[1;33m,\u001b[0m \u001b[1;33m**\u001b[0m\u001b[0mkwds\u001b[0m\u001b[1;33m)\u001b[0m\u001b[1;33m\u001b[0m\u001b[1;33m\u001b[0m\u001b[0m\n\u001b[0m\u001b[0;32m     57\u001b[0m \u001b[1;33m\u001b[0m\u001b[0m\n\u001b[0;32m     58\u001b[0m     \u001b[1;31m# An AttributeError occurs if the object does not have\u001b[0m\u001b[1;33m\u001b[0m\u001b[1;33m\u001b[0m\u001b[1;33m\u001b[0m\u001b[0m\n",
      "\u001b[1;31mValueError\u001b[0m: cannot reshape array of size 16042325 into shape (3797,625)"
     ]
    }
   ],
   "source": [
    "raw_data_to_ready_data(max_chunks, 'Herwig Dipole')"
   ]
  },
  {
   "cell_type": "code",
   "execution_count": null,
   "metadata": {},
   "outputs": [],
   "source": []
  }
 ],
 "metadata": {
  "kernelspec": {
   "display_name": "Python 3",
   "language": "python",
   "name": "python3"
  },
  "language_info": {
   "codemirror_mode": {
    "name": "ipython",
    "version": 3
   },
   "file_extension": ".py",
   "mimetype": "text/x-python",
   "name": "python",
   "nbconvert_exporter": "python",
   "pygments_lexer": "ipython3",
   "version": "3.7.4"
  }
 },
 "nbformat": 4,
 "nbformat_minor": 2
}
